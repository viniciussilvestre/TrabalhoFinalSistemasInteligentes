{
 "cells": [
  {
   "cell_type": "code",
   "execution_count": 4,
   "metadata": {
    "collapsed": true
   },
   "outputs": [],
   "source": [
    "import collections\n",
    "import pathlib\n",
    "import matplotlib\n",
    "import tensorflow as tf\n",
    "import random\n",
    "import pandas as pd\n",
    "from matplotlib import pyplot as plt\n",
    "import numpy as np\n",
    "import tensorflow_datasets as tfds\n",
    "import tensorflow_text as tf_text"
   ]
  },
  {
   "cell_type": "code",
   "execution_count": 5,
   "outputs": [],
   "source": [
    "matplotlib.rcParams['figure.figsize'] = [12, 8]\n",
    "np.set_printoptions(precision=3, suppress=True)\n",
    "\n",
    "seed = 22\n",
    "tf.random.set_seed(seed)\n",
    "hidden_neurons = 16\n",
    "number_of_hidden_layers = 2\n",
    "batch_size = 32\n",
    "learning_rate = 0.001\n",
    "max_epochs = 100\n",
    "k = 10\n",
    "train_val_split = 0.6\n",
    "activation_func = 'relu'\n",
    "max_words = 10000"
   ],
   "metadata": {
    "collapsed": false
   }
  },
  {
   "cell_type": "code",
   "execution_count": 232,
   "outputs": [],
   "source": [
    "descriptions = pd.read_csv('descriptions.csv')\n",
    "genres = pd.read_csv('genres.csv')"
   ],
   "metadata": {
    "collapsed": false
   }
  },
  {
   "cell_type": "code",
   "execution_count": 233,
   "outputs": [],
   "source": [
    "_ = genres.pop('Unnamed: 0')\n",
    "_ = descriptions.pop('Unnamed: 0')"
   ],
   "metadata": {
    "collapsed": false
   }
  },
  {
   "cell_type": "code",
   "execution_count": 234,
   "outputs": [],
   "source": [
    "df = pd.concat([descriptions, genres], axis=1)"
   ],
   "metadata": {
    "collapsed": false
   }
  },
  {
   "cell_type": "code",
   "execution_count": 235,
   "outputs": [],
   "source": [
    "column_indices = {name: i for i, name in enumerate(df.columns)}\n",
    "\n",
    "n = len(df)\n",
    "train_df = df[0:int(n*0.4)]\n",
    "val_df = df[int(n*0.4):int(n*0.7)]\n",
    "test_df = df[int(n*0.7):]"
   ],
   "metadata": {
    "collapsed": false
   }
  },
  {
   "cell_type": "code",
   "execution_count": 236,
   "outputs": [],
   "source": [
    "train_df = train_df.sample(frac=1, random_state=seed).reset_index(drop=True)\n",
    "val_df = val_df.sample(frac=1, random_state=seed).reset_index(drop=True)\n",
    "test_df = test_df.sample(frac=1, random_state=seed).reset_index(drop=True)"
   ],
   "metadata": {
    "collapsed": false
   }
  },
  {
   "cell_type": "code",
   "execution_count": 237,
   "outputs": [],
   "source": [
    "_ = test_df.pop('genres')"
   ],
   "metadata": {
    "collapsed": false
   }
  },
  {
   "cell_type": "code",
   "execution_count": 148,
   "outputs": [],
   "source": [
    "number_of_genres = 0\n",
    "list_of_genres = []\n",
    "for i in range(len(genres)):\n",
    "    string = ''.join(genres.iloc[i])\n",
    "    new_string = string.replace('[', '')\n",
    "    new_string = new_string.replace(']', '')\n",
    "    new_string = new_string.replace(\"'\", '')\n",
    "    new_string = new_string.replace(\"'\", '')\n",
    "    new_string = new_string.split(\", \")\n",
    "    for j in range(len(new_string)):\n",
    "        if new_string[j] not in list_of_genres:\n",
    "            list_of_genres.append(new_string[j])\n",
    "            number_of_genres += 1"
   ],
   "metadata": {
    "collapsed": false
   }
  }
 ],
 "metadata": {
  "kernelspec": {
   "display_name": "Python 3",
   "language": "python",
   "name": "python3"
  },
  "language_info": {
   "codemirror_mode": {
    "name": "ipython",
    "version": 2
   },
   "file_extension": ".py",
   "mimetype": "text/x-python",
   "name": "python",
   "nbconvert_exporter": "python",
   "pygments_lexer": "ipython2",
   "version": "2.7.6"
  }
 },
 "nbformat": 4,
 "nbformat_minor": 0
}
