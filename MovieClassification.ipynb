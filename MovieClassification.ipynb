{
 "cells": [
  {
   "cell_type": "code",
   "execution_count": 96,
   "metadata": {
    "collapsed": true
   },
   "outputs": [],
   "source": [
    "import matplotlib\n",
    "import tensorflow as tf\n",
    "import pandas as pd\n",
    "from matplotlib import pyplot as plt\n",
    "import numpy as np"
   ]
  },
  {
   "cell_type": "code",
   "execution_count": 97,
   "outputs": [],
   "source": [
    "def get_number_of_genres(data):\n",
    "    number_genres = 0\n",
    "    list_of_genres = []\n",
    "    for i in range(len(data)):\n",
    "        string = ''.join(data.iloc[i])\n",
    "        new_string = string.replace('[', '')\n",
    "        new_string = new_string.replace(']', '')\n",
    "        new_string = new_string.replace(\"'\", '')\n",
    "        new_string = new_string.replace(\"'\", '')\n",
    "        new_string = new_string.split(\", \")\n",
    "        for j in range(len(new_string)):\n",
    "            # if new_string[j] != '':\n",
    "            if new_string[j] not in list_of_genres:\n",
    "                list_of_genres.append(new_string[j])\n",
    "                number_genres += 1\n",
    "    return np.array(list_of_genres), number_genres"
   ],
   "metadata": {
    "collapsed": false
   }
  },
  {
   "cell_type": "code",
   "execution_count": 98,
   "outputs": [],
   "source": [
    "def convert_format(row):\n",
    "    new_genres = row.split(', ')\n",
    "    for i in range(len(new_genres)):\n",
    "        if new_genres[i] == 'Science Fiction':\n",
    "            new_genres[i] = 'scifi'\n",
    "        elif new_genres[i] == 'documentation':\n",
    "            new_genres[i] = 'documentary'\n",
    "        else:\n",
    "            new_genres[i] = new_genres[i].lower()\n",
    "    return new_genres"
   ],
   "metadata": {
    "collapsed": false
   }
  },
  {
   "cell_type": "code",
   "execution_count": 99,
   "outputs": [],
   "source": [
    "def convert_old(row):\n",
    "    new_string = ''.join(row)\n",
    "    new_string = new_string.replace('[', '')\n",
    "    new_string = new_string.replace(']', '')\n",
    "    new_string = new_string.replace(\"'\", '')\n",
    "    new_string = new_string.replace(\"'\", '')\n",
    "    new_string = new_string.split(\", \")\n",
    "    return new_string"
   ],
   "metadata": {
    "collapsed": false
   }
  },
  {
   "cell_type": "code",
   "execution_count": 100,
   "outputs": [],
   "source": [
    "other_descriptions = pd.read_csv('otherDatasetDescriptions.csv')\n",
    "other_genres = pd.read_csv('otherDatasetGenres.csv')\n",
    "_ = other_genres.pop('Unnamed: 0')\n",
    "_ = other_descriptions.pop('Unnamed: 0')"
   ],
   "metadata": {
    "collapsed": false
   }
  },
  {
   "cell_type": "code",
   "execution_count": 101,
   "outputs": [],
   "source": [
    "indexes = other_genres[other_genres.isnull().any(axis=1)].index\n",
    "other_genres = other_genres.drop(indexes)\n",
    "other_descriptions = other_descriptions.drop(indexes)\n",
    "other_descriptions.reset_index(drop=True, inplace=True)\n",
    "other_genres.reset_index(drop=True, inplace=True)"
   ],
   "metadata": {
    "collapsed": false
   }
  },
  {
   "cell_type": "code",
   "execution_count": 102,
   "outputs": [],
   "source": [
    "descriptions = pd.read_csv('descriptions.csv')\n",
    "genres = pd.read_csv('genres.csv')\n",
    "_ = genres.pop('Unnamed: 0')\n",
    "_ = descriptions.pop('Unnamed: 0')"
   ],
   "metadata": {
    "collapsed": false
   }
  },
  {
   "cell_type": "code",
   "execution_count": 103,
   "outputs": [],
   "source": [
    "genres['genres'] = genres['genres'].apply(convert_old)\n",
    "other_genres['Genre'] = other_genres['Genre'].apply(convert_format)"
   ],
   "metadata": {
    "collapsed": false
   }
  },
  {
   "cell_type": "code",
   "execution_count": 104,
   "outputs": [],
   "source": [
    "other_descriptions = other_descriptions.rename(columns={\"Overview\": \"description\"})\n",
    "other_genres = other_genres.rename(columns={\"Genre\": \"genres\"})"
   ],
   "metadata": {
    "collapsed": false
   }
  },
  {
   "cell_type": "code",
   "execution_count": 105,
   "outputs": [],
   "source": [
    "framesDescriptions = [other_descriptions, descriptions]\n",
    "framesGenres = [other_genres, genres]"
   ],
   "metadata": {
    "collapsed": false
   }
  },
  {
   "cell_type": "code",
   "execution_count": 106,
   "outputs": [],
   "source": [
    "descriptions = pd.concat(framesDescriptions)\n",
    "genres = pd.concat(framesGenres)\n",
    "descriptions.reset_index(drop=True, inplace=True)\n",
    "genres.reset_index(drop=True, inplace=True)"
   ],
   "metadata": {
    "collapsed": false
   }
  },
  {
   "cell_type": "code",
   "execution_count": 107,
   "outputs": [],
   "source": [
    "duplicated = descriptions[descriptions.duplicated()].index\n",
    "genres = genres.drop(duplicated)\n",
    "descriptions = descriptions.drop(duplicated)\n",
    "descriptions.reset_index(drop=True, inplace=True)\n",
    "genres.reset_index(drop=True, inplace=True)"
   ],
   "metadata": {
    "collapsed": false
   }
  },
  {
   "cell_type": "code",
   "execution_count": 108,
   "outputs": [],
   "source": [
    "descriptions.to_csv('descriptions2.csv')\n",
    "genres.to_csv('genres2.csv')"
   ],
   "metadata": {
    "collapsed": false
   }
  },
  {
   "cell_type": "code",
   "execution_count": 54,
   "outputs": [],
   "source": [
    "descriptions = pd.read_csv('descriptions2.csv')\n",
    "genres = pd.read_csv('genres2.csv')\n",
    "_ = genres.pop('Unnamed: 0')\n",
    "_ = descriptions.pop('Unnamed: 0')"
   ],
   "metadata": {
    "collapsed": false
   }
  },
  {
   "cell_type": "code",
   "execution_count": 62,
   "outputs": [],
   "source": [
    "list_of_genre, number_of_genres = get_number_of_genres(genres)"
   ],
   "metadata": {
    "collapsed": false
   }
  },
  {
   "cell_type": "code",
   "execution_count": 62,
   "outputs": [],
   "source": [
    "with open('words.txt', 'r') as file:\n",
    "    data = file.read()\n",
    "df = pd.DataFrame([x.split() for x in data.split('\\n')], columns=[\"words\"])"
   ],
   "metadata": {
    "collapsed": false
   }
  },
  {
   "cell_type": "code",
   "execution_count": 63,
   "outputs": [],
   "source": [
    "vocab = df.pop('words')\n",
    "vocab = vocab.astype(str)"
   ],
   "metadata": {
    "collapsed": false
   }
  },
  {
   "cell_type": "code",
   "execution_count": 64,
   "outputs": [],
   "source": [
    "vocabulary = set()\n",
    "vocab.str.lower().str.split().apply(vocabulary.update)\n",
    "vocabulary_size = len(vocabulary)"
   ],
   "metadata": {
    "collapsed": false
   }
  },
  {
   "cell_type": "code",
   "execution_count": 66,
   "outputs": [
    {
     "data": {
      "text/plain": "466546"
     },
     "execution_count": 66,
     "metadata": {},
     "output_type": "execute_result"
    }
   ],
   "source": [
    "vocabulary_size"
   ],
   "metadata": {
    "collapsed": false
   }
  }
 ],
 "metadata": {
  "kernelspec": {
   "display_name": "Python 3",
   "language": "python",
   "name": "python3"
  },
  "language_info": {
   "codemirror_mode": {
    "name": "ipython",
    "version": 2
   },
   "file_extension": ".py",
   "mimetype": "text/x-python",
   "name": "python",
   "nbconvert_exporter": "python",
   "pygments_lexer": "ipython2",
   "version": "2.7.6"
  }
 },
 "nbformat": 4,
 "nbformat_minor": 0
}
